{
 "cells": [
  {
   "cell_type": "code",
   "execution_count": 125,
   "metadata": {
    "collapsed": false
   },
   "outputs": [],
   "source": [
    "import numpy as np\n",
    "import matplotlib.pyplot as plt\n",
    "from tqdm import tqdm\n",
    "%matplotlib inline"
   ]
  },
  {
   "cell_type": "markdown",
   "metadata": {},
   "source": [
    "## Probability functions"
   ]
  },
  {
   "cell_type": "code",
   "execution_count": 2,
   "metadata": {
    "collapsed": false
   },
   "outputs": [],
   "source": [
    "#returns a vector of length n where each element is drawn\n",
    "#from a normal dist with mean mu and standard deviation sigma\n",
    "def norm_vector(mu,sigma,n):\n",
    "    return np.random.normal(mu,sigma,size=(n))"
   ]
  },
  {
   "cell_type": "code",
   "execution_count": 3,
   "metadata": {
    "collapsed": false
   },
   "outputs": [],
   "source": [
    "#returns a vector where element is drawn from a normal distribution with\n",
    "#mean mu[i] and standard dev sigma[i]\n",
    "def norm_vec_from_vec(mu,sigma):\n",
    "    result = np.zeros(len(mu))\n",
    "    for i in range(len(mu)):\n",
    "        result[i]=np.random.normal(mu[i],sigma[i])\n",
    "    return result"
   ]
  },
  {
   "cell_type": "code",
   "execution_count": 5,
   "metadata": {
    "collapsed": true
   },
   "outputs": [],
   "source": [
    "n=10"
   ]
  },
  {
   "cell_type": "code",
   "execution_count": 8,
   "metadata": {
    "collapsed": false
   },
   "outputs": [
    {
     "data": {
      "text/plain": [
       "array([-0.53805562,  0.49700072,  1.56384838, -0.56924573, -0.05192986,\n",
       "       -0.49741303, -0.39545944,  0.09906648,  0.17923069,  0.07421269])"
      ]
     },
     "execution_count": 8,
     "metadata": {},
     "output_type": "execute_result"
    }
   ],
   "source": [
    "Q_test_star=norm_vector(0,1,10)\n",
    "Q_test_star"
   ]
  },
  {
   "cell_type": "code",
   "execution_count": 9,
   "metadata": {
    "collapsed": false
   },
   "outputs": [],
   "source": [
    "std_array=np.ones(len(Q_test_star))"
   ]
  },
  {
   "cell_type": "code",
   "execution_count": 10,
   "metadata": {
    "collapsed": false
   },
   "outputs": [
    {
     "data": {
      "text/plain": [
       "array([-1.0718773 ,  1.68550312,  1.72903259,  0.21404073, -2.09669372,\n",
       "       -1.4321241 , -0.19476931,  1.10301798, -0.89620389,  1.88509606])"
      ]
     },
     "execution_count": 10,
     "metadata": {},
     "output_type": "execute_result"
    }
   ],
   "source": [
    "action_values = norm_vec_from_vec(Q_test_star,std_array)\n",
    "action_values"
   ]
  },
  {
   "cell_type": "code",
   "execution_count": 11,
   "metadata": {
    "collapsed": false
   },
   "outputs": [],
   "source": [
    "num_plays=100\n",
    "#an action is an index\n",
    "# action_history = np.array([]).reshape((0,num_plays))\n",
    "# reward_history = np.array([]).reshape((0,num_plays))\n",
    "action_history = np.zeros(num_plays)"
   ]
  },
  {
   "cell_type": "code",
   "execution_count": 12,
   "metadata": {
    "collapsed": false
   },
   "outputs": [],
   "source": [
    "action_history[0]=1"
   ]
  },
  {
   "cell_type": "code",
   "execution_count": 13,
   "metadata": {
    "collapsed": false
   },
   "outputs": [
    {
     "data": {
      "text/plain": [
       "array([ 1.,  0.,  0.,  0.,  0.,  0.,  0.,  0.,  0.,  0.,  0.,  0.,  0.,\n",
       "        0.,  0.,  0.,  0.,  0.,  0.,  0.,  0.,  0.,  0.,  0.,  0.,  0.,\n",
       "        0.,  0.,  0.,  0.,  0.,  0.,  0.,  0.,  0.,  0.,  0.,  0.,  0.,\n",
       "        0.,  0.,  0.,  0.,  0.,  0.,  0.,  0.,  0.,  0.,  0.,  0.,  0.,\n",
       "        0.,  0.,  0.,  0.,  0.,  0.,  0.,  0.,  0.,  0.,  0.,  0.,  0.,\n",
       "        0.,  0.,  0.,  0.,  0.,  0.,  0.,  0.,  0.,  0.,  0.,  0.,  0.,\n",
       "        0.,  0.,  0.,  0.,  0.,  0.,  0.,  0.,  0.,  0.,  0.,  0.,  0.,\n",
       "        0.,  0.,  0.,  0.,  0.,  0.,  0.,  0.,  0.])"
      ]
     },
     "execution_count": 13,
     "metadata": {},
     "output_type": "execute_result"
    }
   ],
   "source": [
    "action_history"
   ]
  },
  {
   "cell_type": "code",
   "execution_count": 14,
   "metadata": {
    "collapsed": true
   },
   "outputs": [],
   "source": [
    "action_history = np.array([1,1,1,2,2,2])\n",
    "reward_history = np.array([1,1,1,0,0,1])"
   ]
  },
  {
   "cell_type": "code",
   "execution_count": 15,
   "metadata": {
    "collapsed": false
   },
   "outputs": [
    {
     "data": {
      "text/plain": [
       "3"
      ]
     },
     "execution_count": 15,
     "metadata": {},
     "output_type": "execute_result"
    }
   ],
   "source": [
    "np.dot((action_history==1),reward_history)"
   ]
  },
  {
   "cell_type": "markdown",
   "metadata": {},
   "source": [
    "## Action Value Estimate Function"
   ]
  },
  {
   "cell_type": "code",
   "execution_count": 16,
   "metadata": {
    "collapsed": false
   },
   "outputs": [],
   "source": [
    "#create a function that estimates Q (aka value) from reward and\n",
    "#action history\n",
    "def getQ(num_actions,action_history,reward_history):\n",
    "    Q = np.zeros(num_actions).astype('float32')\n",
    "    for i in range(num_actions):\n",
    "        if np.sum(action_history==i) == 0:\n",
    "            Q[i]=0\n",
    "        else:\n",
    "            Q[i]=np.dot((action_history==i),reward_history)/(1.*np.sum(action_history==i))\n",
    "    return Q"
   ]
  },
  {
   "cell_type": "code",
   "execution_count": 17,
   "metadata": {
    "collapsed": false
   },
   "outputs": [
    {
     "data": {
      "text/plain": [
       "array([ 0.        ,  1.        ,  0.33333334], dtype=float32)"
      ]
     },
     "execution_count": 17,
     "metadata": {},
     "output_type": "execute_result"
    }
   ],
   "source": [
    "getQ(3,action_history,reward_history)"
   ]
  },
  {
   "cell_type": "code",
   "execution_count": 18,
   "metadata": {
    "collapsed": false
   },
   "outputs": [],
   "source": [
    "#number of actions or number of arms\n",
    "num_actions = 10\n",
    "\n",
    "#generate a list of means to use for normal distribtutions that \n",
    "#we will use to draw from for each simulation\n",
    "means = norm_vector(0,1,num_actions)\n",
    "\n",
    "#each element of Q_star represents the mean of a distribution\n",
    "#generate the true action values for a simulation\n",
    "Q_star = norm_vec_from_vec(Q_test_star,std_array)\n",
    "\n",
    "#for each play, pick an action a (according to some policy) \n",
    "#and then see your reward. The reward will be a random variable \n",
    "#drawn from a normal distribution with mean Q_star[a]. \n",
    "#Thus, we would want to keep track of what reward came with each action\n",
    "#Big Idea: better rewards will come from actions with higher Q_star\n",
    "#Hopefully it learns which action is best\n",
    "num_plays = 1000\n",
    "action_history = np.zeros(num_plays)\n",
    "reward_history = np.zeros(num_plays)\n",
    "\n",
    "for i in range(num_plays):\n",
    "    #get action based off Q\n",
    "    if i == 0:\n",
    "        action = np.random.randint(0,num_actions)\n",
    "    else:\n",
    "        action = np.argmax(getQ(num_actions,action_history,reward_history))\n",
    "    #employ the actions and get the reward\n",
    "    reward = np.random.normal(Q_star[action],1)\n",
    "    \n",
    "    action_history[i]=action\n",
    "    reward_history[i]=reward"
   ]
  },
  {
   "cell_type": "code",
   "execution_count": 19,
   "metadata": {
    "collapsed": false
   },
   "outputs": [
    {
     "data": {
      "text/plain": [
       "0"
      ]
     },
     "execution_count": 19,
     "metadata": {},
     "output_type": "execute_result"
    }
   ],
   "source": [
    "np.random.randint(0,num_actions)"
   ]
  },
  {
   "cell_type": "code",
   "execution_count": 20,
   "metadata": {
    "collapsed": false
   },
   "outputs": [
    {
     "data": {
      "text/plain": [
       "[<matplotlib.lines.Line2D at 0x7f18c0891890>]"
      ]
     },
     "execution_count": 20,
     "metadata": {},
     "output_type": "execute_result"
    },
    {
     "data": {
      "image/png": "[encoded data removed]",
      "text/plain": [
       "<matplotlib.figure.Figure at 0x7f18c2d9be90>"
      ]
     },
     "metadata": {},
     "output_type": "display_data"
    }
   ],
   "source": [
    "plt.plot(reward_history)"
   ]
  },
  {
   "cell_type": "code",
   "execution_count": 21,
   "metadata": {
    "collapsed": true
   },
   "outputs": [],
   "source": [
    "def n_armed_bandit_greedy(n=10,num_plays=100):\n",
    "    #number of actions or number of arms\n",
    "    num_actions = n\n",
    "\n",
    "    #generate a list of means to use for normal distribtutions that \n",
    "    #we will use to draw from for each simulation\n",
    "    means = norm_vector(0,1,num_actions)\n",
    "\n",
    "    #each element of Q_star represents the mean of a distribution\n",
    "    #generate the true action values for a simulation\n",
    "    Q_star = norm_vec_from_vec(Q_test_star,std_array)\n",
    "\n",
    "    #for each play, pick an action a (according to some policy) \n",
    "    #and then see your reward. The reward will be a random variable \n",
    "    #drawn from a normal distribution with mean Q_star[a]. \n",
    "    #Thus, we would want to keep track of what reward came with each action\n",
    "    #Big Idea: better rewards will come from actions with higher Q_star\n",
    "    #Hopefully it learns which action is best\n",
    "    action_history = np.zeros(num_plays)\n",
    "    reward_history = np.zeros(num_plays)\n",
    "\n",
    "    for i in range(num_plays):\n",
    "        #get action based off Q\n",
    "        if i == 0:\n",
    "            action = np.random.randint(0,num_actions)\n",
    "        else:\n",
    "            action = np.argmax(getQ(num_actions,action_history,reward_history))\n",
    "        #employ the actions and get the reward\n",
    "        reward = np.random.normal(Q_star[action],1)\n",
    "        \n",
    "        #store the values\n",
    "        action_history[i]=action\n",
    "        reward_history[i]=reward\n",
    "    \n",
    "    return reward_history"
   ]
  },
  {
   "cell_type": "code",
   "execution_count": 22,
   "metadata": {
    "collapsed": false
   },
   "outputs": [],
   "source": [
    "num_plays = 100\n",
    "num_sim = 1000\n",
    "greedy_results = np.zeros(shape=(num_sim,num_plays))\n",
    "for i in range(num_sim):\n",
    "    greedy_results[i,:]=n_armed_bandit_greedy(num_plays=num_plays)"
   ]
  },
  {
   "cell_type": "code",
   "execution_count": 23,
   "metadata": {
    "collapsed": false
   },
   "outputs": [],
   "source": [
    "greedy_averages=np.average(greedy_results,axis=0)"
   ]
  },
  {
   "cell_type": "code",
   "execution_count": 24,
   "metadata": {
    "collapsed": false
   },
   "outputs": [
    {
     "data": {
      "text/plain": [
       "[<matplotlib.lines.Line2D at 0x7efff30e81d0>]"
      ]
     },
     "execution_count": 24,
     "metadata": {},
     "output_type": "execute_result"
    },
    {
     "data": {
      "image/png": "[encoded data removed]",
      "text/plain": [
       "<matplotlib.figure.Figure at 0x7efff34f2c10>"
      ]
     },
     "metadata": {},
     "output_type": "display_data"
    }
   ],
   "source": [
    "plt.plot(greedy_averages)"
   ]
  },
  {
   "cell_type": "markdown",
   "metadata": {
    "collapsed": true
   },
   "source": [
    "# N-armed bandits\n",
    "## Greedy and $\\varepsilon$ methods"
   ]
  },
  {
   "cell_type": "code",
   "execution_count": 22,
   "metadata": {
    "collapsed": true
   },
   "outputs": [],
   "source": [
    "def n_armed_bandit(n=10,num_plays=100,epsilon=.1,per_opt=False):\n",
    "    #number of actions or number of arms\n",
    "    num_actions = n\n",
    "\n",
    "    #generate a list of means to use for normal distribtutions that \n",
    "    #we will use to draw from for each simulation\n",
    "    means = norm_vector(0,1,num_actions)\n",
    "\n",
    "    #each element of Q_star represents the mean of a distribution\n",
    "    #generate the true action values for a simulation\n",
    "    Q_star = norm_vec_from_vec(Q_test_star,std_array)\n",
    "\n",
    "    #for each play, pick an action a (according to some policy) \n",
    "    #and then see your reward. The reward will be a random variable \n",
    "    #drawn from a normal distribution with mean Q_star[a]. \n",
    "    #Thus, we would want to keep track of what reward came with each action\n",
    "    #Big Idea: better rewards will come from actions with higher Q_star\n",
    "    #Hopefully it learns which action is best\n",
    "    action_history = np.zeros(num_plays)\n",
    "    reward_history = np.zeros(num_plays)\n",
    "\n",
    "    for i in range(num_plays):\n",
    "        #get action greedily based off Q and random epsilon\n",
    "        if i == 0:\n",
    "            action = np.random.randint(0,num_actions)\n",
    "        else:\n",
    "            #generate random number\n",
    "            rand_num = np.random.rand()\n",
    "            greedy_action = np.argmax(getQ(num_actions,\n",
    "                                           action_history,reward_history))\n",
    "            if rand_num<epsilon:\n",
    "                action_space = np.delete(np.arange(num_actions),\n",
    "                                         greedy_action)\n",
    "                action=np.random.choice(action_space)\n",
    "            else:\n",
    "                action= greedy_action\n",
    "        #employ the actions and get the reward\n",
    "        reward = np.random.normal(Q_star[action],1)\n",
    "        \n",
    "        #store the values\n",
    "        action_history[i]=action\n",
    "        reward_history[i]=reward\n",
    "    \n",
    "    if per_opt:\n",
    "        action_opt = np.argmax(Q_star)\n",
    "        reward_history=100.*(action_history==action_opt)\n",
    "    \n",
    "    return reward_history"
   ]
  },
  {
   "cell_type": "code",
   "execution_count": 260,
   "metadata": {
    "collapsed": true
   },
   "outputs": [],
   "source": [
    "num_plays = 1000\n",
    "num_sim = 2000\n",
    "epsilon1_results = np.zeros(shape=(num_sim,num_plays))\n",
    "epsilon10_results = np.zeros(shape=(num_sim,num_plays))\n",
    "greedy_results = np.zeros(shape=(num_sim,num_plays))\n",
    "for i in range(num_sim):\n",
    "    epsilon1_results[i,:]=n_armed_bandit(num_plays=num_plays,epsilon=.01,per_opt=False)\n",
    "    epsilon10_results[i,:]=n_armed_bandit(num_plays=num_plays,epsilon=.1,per_opt=False)\n",
    "    greedy_results[i,:]=n_armed_bandit(num_plays=num_plays,epsilon=0,per_opt=False)"
   ]
  },
  {
   "cell_type": "code",
   "execution_count": 261,
   "metadata": {
    "collapsed": false
   },
   "outputs": [],
   "source": [
    "#averages\n",
    "epsilon1_averages=np.mean(epsilon1_results,axis=0)\n",
    "epsilon10_averages=np.mean(epsilon10_results,axis=0)\n",
    "greedy_averages=np.mean(greedy_results,axis=0)"
   ]
  },
  {
   "cell_type": "code",
   "execution_count": 279,
   "metadata": {
    "collapsed": false
   },
   "outputs": [
    {
     "data": {
      "text/plain": [
       "<matplotlib.legend.Legend at 0x7f3f2664ed50>"
      ]
     },
     "execution_count": 279,
     "metadata": {},
     "output_type": "execute_result"
    },
    {
     "data": {
      "image/png": "[encoded data removed]",
      "text/plain": [
       "<matplotlib.figure.Figure at 0x7f3f2673c490>"
      ]
     },
     "metadata": {},
     "output_type": "display_data"
    }
   ],
   "source": [
    "#plots\n",
    "x_axis=range(num_plays)\n",
    "plt.plot(x_axis,epsilon1_averages,'r',x_axis,epsilon10_averages,'b',x_axis,greedy_averages,'g')\n",
    "plt.ylabel('Average Reward')\n",
    "plt.xlabel('Plays')\n",
    "plt.legend([r'$\\varepsilon=0.01$',r'$\\varepsilon=0.1$','greedy'],loc=4)"
   ]
  },
  {
   "cell_type": "code",
   "execution_count": 285,
   "metadata": {
    "collapsed": true
   },
   "outputs": [],
   "source": [
    "num_plays = 1000\n",
    "num_sim = 200\n",
    "epsilon1_results = np.zeros(shape=(num_sim,num_plays))\n",
    "epsilon10_results = np.zeros(shape=(num_sim,num_plays))\n",
    "greedy_results = np.zeros(shape=(num_sim,num_plays))\n",
    "for i in range(num_sim):\n",
    "    epsilon1_results[i,:]=n_armed_bandit(num_plays=num_plays,epsilon=.01,per_opt=True)\n",
    "    epsilon10_results[i,:]=n_armed_bandit(num_plays=num_plays,epsilon=.1,per_opt=True)\n",
    "    greedy_results[i,:]=n_armed_bandit(num_plays=num_plays,epsilon=0,per_opt=True)"
   ]
  },
  {
   "cell_type": "code",
   "execution_count": 286,
   "metadata": {
    "collapsed": true
   },
   "outputs": [],
   "source": [
    "#averages\n",
    "epsilon1_averages=np.mean(epsilon1_results,axis=0)\n",
    "epsilon10_averages=np.mean(epsilon10_results,axis=0)\n",
    "greedy_averages=np.mean(greedy_results,axis=0)"
   ]
  },
  {
   "cell_type": "code",
   "execution_count": 288,
   "metadata": {
    "collapsed": false
   },
   "outputs": [
    {
     "data": {
      "text/plain": [
       "<matplotlib.legend.Legend at 0x7f3f267dcc50>"
      ]
     },
     "execution_count": 288,
     "metadata": {},
     "output_type": "execute_result"
    },
    {
     "data": {
      "image/png": "[encoded data removed]",
      "text/plain": [
       "<matplotlib.figure.Figure at 0x7f3f267dc390>"
      ]
     },
     "metadata": {},
     "output_type": "display_data"
    }
   ],
   "source": [
    "#plots\n",
    "x_axis=range(num_plays)\n",
    "plt.plot(x_axis,epsilon1_averages,'r',x_axis,epsilon10_averages,'b',x_axis,greedy_averages,'g')\n",
    "plt.ylabel('% Optimal Action')\n",
    "plt.xlabel('Plays')\n",
    "plt.legend([r'$\\varepsilon=0.01$',r'$\\varepsilon=0.1$','greedy'],loc=4)"
   ]
  },
  {
   "cell_type": "markdown",
   "metadata": {},
   "source": [
    "# Softmax Action Decisions"
   ]
  },
  {
   "cell_type": "code",
   "execution_count": 23,
   "metadata": {
    "collapsed": true
   },
   "outputs": [],
   "source": [
    "def softmax_action(Q,temp):\n",
    "    x = Q/(1.*temp)\n",
    "    x_prime = x-np.max(x)\n",
    "    return np.exp(x_prime)/np.sum(np.exp(x_prime))\n",
    "    #return np.exp(Q/temp)/np.sum(np.exp(Q/temp))"
   ]
  },
  {
   "cell_type": "code",
   "execution_count": 24,
   "metadata": {
    "collapsed": true
   },
   "outputs": [],
   "source": [
    "def n_armed_bandit_softmax(n=10,num_plays=100,temp=1):\n",
    "    #number of actions or number of arms\n",
    "    num_actions = n\n",
    "\n",
    "    #generate a list of means to use for normal distribtutions that \n",
    "    #we will use to draw from for each simulation\n",
    "    means = norm_vector(0,1,num_actions)\n",
    "\n",
    "    #each element of Q_star represents the mean of a distribution\n",
    "    #generate the true action values for a simulation\n",
    "    Q_star = norm_vec_from_vec(Q_test_star,std_array)\n",
    "\n",
    "    #for each play, pick an action a (according to some policy) \n",
    "    #and then see your reward. The reward will be a random variable \n",
    "    #drawn from a normal distribution with mean Q_star[a]. \n",
    "    #Thus, we would want to keep track of what reward came with each action\n",
    "    #Big Idea: better rewards will come from actions with higher Q_star\n",
    "    #Hopefully it learns which action is best\n",
    "    action_history = np.zeros(num_plays)\n",
    "    reward_history = np.zeros(num_plays)\n",
    "\n",
    "    for i in range(num_plays):\n",
    "        #get action based off Q\n",
    "        if i == 0:\n",
    "            action = np.random.randint(0,num_actions)\n",
    "        else:\n",
    "            Q = getQ(num_actions,action_history,reward_history)\n",
    "            Q_softmax = softmax_action(Q,temp=temp)\n",
    "            action = np.argmax(Q_softmax)\n",
    "        #employ the actions and get the reward\n",
    "        reward = np.random.normal(Q_star[action],1)\n",
    "        \n",
    "        #store the values\n",
    "        action_history[i]=action\n",
    "        reward_history[i]=reward\n",
    "    \n",
    "    return reward_history"
   ]
  },
  {
   "cell_type": "code",
   "execution_count": 25,
   "metadata": {
    "collapsed": false
   },
   "outputs": [],
   "source": [
    "num_plays = 100\n",
    "num_sim = 1000\n",
    "softmax_results = np.zeros(shape=(num_sim,num_plays))\n",
    "for i in range(num_sim):\n",
    "    softmax_results[i,:]=n_armed_bandit_softmax(num_plays=num_plays,temp=.1)"
   ]
  },
  {
   "cell_type": "code",
   "execution_count": 26,
   "metadata": {
    "collapsed": true
   },
   "outputs": [],
   "source": [
    "softmax_averages=np.average(softmax_results,axis=0)"
   ]
  },
  {
   "cell_type": "code",
   "execution_count": 27,
   "metadata": {
    "collapsed": false
   },
   "outputs": [
    {
     "data": {
      "text/plain": [
       "[<matplotlib.lines.Line2D at 0x7f18c04d1490>]"
      ]
     },
     "execution_count": 27,
     "metadata": {},
     "output_type": "execute_result"
    },
    {
     "data": {
      "image/png": "[encoded data removed]",
      "text/plain": [
       "<matplotlib.figure.Figure at 0x7f18c08c0690>"
      ]
     },
     "metadata": {},
     "output_type": "display_data"
    }
   ],
   "source": [
    "plt.plot(softmax_averages)"
   ]
  },
  {
   "cell_type": "markdown",
   "metadata": {},
   "source": [
    "# Incremental Implemenation"
   ]
  },
  {
   "cell_type": "markdown",
   "metadata": {},
   "source": [
    "Implement $Q_{k+1}(a) = Q_{k_a}+\\frac{1}{k_a+1}[r_{k_a+1}-Q_{k_a}]$"
   ]
  },
  {
   "cell_type": "code",
   "execution_count": 28,
   "metadata": {
    "collapsed": false
   },
   "outputs": [],
   "source": [
    "def update_Q(k_a,action,reward,Q):\n",
    "    #k_a = sum(action_history==action)\n",
    "    Q[action] = Q[action]+1./(k_a+1)*(reward-Q[action])\n",
    "    return Q"
   ]
  },
  {
   "cell_type": "code",
   "execution_count": 41,
   "metadata": {
    "collapsed": false
   },
   "outputs": [],
   "source": [
    "def n_armed_bandit(n=10,num_plays=100,epsilon=.1,per_opt=False):\n",
    "    #number of actions or number of arms\n",
    "    num_actions = n\n",
    "\n",
    "    #generate a list of means to use for normal distribtutions that \n",
    "    #we will use to draw from for each simulation\n",
    "    means = norm_vector(0,1,num_actions)\n",
    "\n",
    "    #each element of Q_star represents the mean of a distribution\n",
    "    #generate the true action values for a simulation\n",
    "    Q_star = norm_vec_from_vec(Q_test_star,std_array)\n",
    "\n",
    "    #for each play, pick an action a (according to some policy) \n",
    "    #and then see your reward. The reward will be a random variable \n",
    "    #drawn from a normal distribution with mean Q_star[a]. \n",
    "    #Thus, we would want to keep track of what reward came with each action\n",
    "    #Big Idea: better rewards will come from actions with higher Q_star\n",
    "    #Hopefully it learns which action is best\n",
    "    reward_history = np.zeros(num_plays)\n",
    "    \n",
    "    #instead of keeping track of the complete actions and reward history\n",
    "    #just keep track of how many times an actions has been used thus far\n",
    "    #and iteratively update it's value\n",
    "    k_a = np.zeros(num_actions)\n",
    "    Q = np.zeros(num_actions)\n",
    "    for i in range(num_plays):\n",
    "        #get action greedily based off Q and random epsilon\n",
    "        if i == 0:\n",
    "            action = np.random.randint(0,num_actions)\n",
    "        else:\n",
    "            #generate random number\n",
    "            rand_num = np.random.rand()\n",
    "            \n",
    "            #find the greedy action\n",
    "            greedy_action = np.argmax(Q)\n",
    "            \n",
    "            #pick the non-greed action if necessary\n",
    "            if rand_num<epsilon:\n",
    "                action_space = np.delete(np.arange(num_actions),\n",
    "                                         greedy_action)\n",
    "                action=np.random.choice(action_space)\n",
    "            else:\n",
    "                action= greedy_action\n",
    "        \n",
    "        #employ the actions and get the reward\n",
    "        reward = np.random.normal(Q_star[action],1)\n",
    "        \n",
    "        #update Q and then k_a\n",
    "        Q = update_Q(k_a[action],action,reward,Q)\n",
    "        k_a[action]=k_a[action]+1\n",
    "        \n",
    "        #store the reward history\n",
    "        if per_opt:\n",
    "            action_opt = np.argmax(Q_star)\n",
    "            reward_history[i]=action_opt == action\n",
    "        else:\n",
    "            reward_history[i]=reward\n",
    "    \n",
    "    \n",
    "    \n",
    "    return reward_history"
   ]
  },
  {
   "cell_type": "code",
   "execution_count": 42,
   "metadata": {
    "collapsed": false
   },
   "outputs": [],
   "source": [
    "num_plays = 1000\n",
    "num_sim = 2000\n",
    "epsilon1_results = np.zeros(shape=(num_sim,num_plays))\n",
    "epsilon10_results = np.zeros(shape=(num_sim,num_plays))\n",
    "greedy_results = np.zeros(shape=(num_sim,num_plays))\n",
    "for i in range(num_sim):\n",
    "    epsilon1_results[i,:]=n_armed_bandit(num_plays=num_plays,epsilon=.01,per_opt=False)\n",
    "    epsilon10_results[i,:]=n_armed_bandit(num_plays=num_plays,epsilon=.1,per_opt=False)\n",
    "    greedy_results[i,:]=n_armed_bandit(num_plays=num_plays,epsilon=0,per_opt=False)"
   ]
  },
  {
   "cell_type": "code",
   "execution_count": 43,
   "metadata": {
    "collapsed": true
   },
   "outputs": [],
   "source": [
    "#averages\n",
    "epsilon1_averages=np.mean(epsilon1_results,axis=0)\n",
    "epsilon10_averages=np.mean(epsilon10_results,axis=0)\n",
    "greedy_averages=np.mean(greedy_results,axis=0)"
   ]
  },
  {
   "cell_type": "code",
   "execution_count": 44,
   "metadata": {
    "collapsed": false
   },
   "outputs": [
    {
     "data": {
      "text/plain": [
       "<matplotlib.legend.Legend at 0x7f18c0352a10>"
      ]
     },
     "execution_count": 44,
     "metadata": {},
     "output_type": "execute_result"
    },
    {
     "data": {
      "image/png": "[encoded data removed]",
      "text/plain": [
       "<matplotlib.figure.Figure at 0x7f18bb53dc10>"
      ]
     },
     "metadata": {},
     "output_type": "display_data"
    }
   ],
   "source": [
    "#plots\n",
    "x_axis=range(num_plays)\n",
    "plt.plot(x_axis,epsilon1_averages,'r',x_axis,epsilon10_averages,'b',x_axis,greedy_averages,'g')\n",
    "plt.ylabel('Average Reward')\n",
    "plt.xlabel('Plays')\n",
    "plt.legend([r'$\\varepsilon=0.01$',r'$\\varepsilon=0.1$','greedy'],loc=4)"
   ]
  },
  {
   "cell_type": "markdown",
   "metadata": {},
   "source": [
    "That was about 30 times faster than the original method"
   ]
  },
  {
   "cell_type": "code",
   "execution_count": 45,
   "metadata": {
    "collapsed": false
   },
   "outputs": [
    {
     "data": {
      "text/plain": [
       "<matplotlib.legend.Legend at 0x7f18c02c3c90>"
      ]
     },
     "execution_count": 45,
     "metadata": {},
     "output_type": "execute_result"
    },
    {
     "data": {
      "image/png": "[encoded data removed]",
      "text/plain": [
       "<matplotlib.figure.Figure at 0x7f18c2d506d0>"
      ]
     },
     "metadata": {},
     "output_type": "display_data"
    }
   ],
   "source": [
    "num_plays = 1000\n",
    "num_sim = 2000\n",
    "epsilon1_results = np.zeros(shape=(num_sim,num_plays))\n",
    "epsilon10_results = np.zeros(shape=(num_sim,num_plays))\n",
    "greedy_results = np.zeros(shape=(num_sim,num_plays))\n",
    "for i in range(num_sim):\n",
    "    epsilon1_results[i,:]=n_armed_bandit(num_plays=num_plays,epsilon=.01,per_opt=True)\n",
    "    epsilon10_results[i,:]=n_armed_bandit(num_plays=num_plays,epsilon=.1,per_opt=True)\n",
    "    greedy_results[i,:]=n_armed_bandit(num_plays=num_plays,epsilon=0,per_opt=True)\n",
    "\n",
    "#averages\n",
    "epsilon1_averages=np.mean(epsilon1_results,axis=0)\n",
    "epsilon10_averages=np.mean(epsilon10_results,axis=0)\n",
    "greedy_averages=np.mean(greedy_results,axis=0)\n",
    "\n",
    "#plots\n",
    "x_axis=range(num_plays)\n",
    "plt.plot(x_axis,epsilon1_averages,'r',x_axis,epsilon10_averages,'b',x_axis,greedy_averages,'g')\n",
    "plt.ylabel('Average Reward')\n",
    "plt.xlabel('Plays')\n",
    "plt.legend([r'$\\varepsilon=0.01$',r'$\\varepsilon=0.1$','greedy'],loc=4)"
   ]
  },
  {
   "cell_type": "markdown",
   "metadata": {},
   "source": [
    "# Nonstationary"
   ]
  },
  {
   "cell_type": "markdown",
   "metadata": {},
   "source": [
    "$ Q_{k+1}=Q_k+\\alpha[r_{k+1}-Q_k]$ \n",
    "\n",
    "where $0<\\alpha\\leq1$"
   ]
  },
  {
   "cell_type": "markdown",
   "metadata": {},
   "source": [
    "# Optimistic Initial Values"
   ]
  },
  {
   "cell_type": "code",
   "execution_count": 57,
   "metadata": {
    "collapsed": true
   },
   "outputs": [],
   "source": [
    "def update_Q(k_a,action,reward,Q,step_size=-1):\n",
    "    if step_size == -1:\n",
    "        step_size=1./(k_a+1)\n",
    "    Q[action] = Q[action]+step_size*(reward-Q[action])\n",
    "    return Q"
   ]
  },
  {
   "cell_type": "code",
   "execution_count": 65,
   "metadata": {
    "collapsed": true
   },
   "outputs": [],
   "source": [
    "def n_armed_bandit(n=10,num_plays=100,epsilon=.1,per_opt=False,step_size=-1):\n",
    "    #number of actions or number of arms\n",
    "    num_actions = n\n",
    "\n",
    "    #generate a list of means to use for normal distribtutions that \n",
    "    #we will use to draw from for each simulation\n",
    "    means = norm_vector(0,1,num_actions)\n",
    "\n",
    "    #each element of Q_star represents the mean of a distribution\n",
    "    #generate the true action values for a simulation\n",
    "    Q_star = norm_vec_from_vec(Q_test_star,std_array)\n",
    "\n",
    "    #for each play, pick an action a (according to some policy) \n",
    "    #and then see your reward. The reward will be a random variable \n",
    "    #drawn from a normal distribution with mean Q_star[a]. \n",
    "    #Thus, we would want to keep track of what reward came with each action\n",
    "    #Big Idea: better rewards will come from actions with higher Q_star\n",
    "    #Hopefully it learns which action is best\n",
    "    reward_history = np.zeros(num_plays)\n",
    "    \n",
    "    #instead of keeping track of the complete actions and reward history\n",
    "    #just keep track of how many times an actions has been used thus far\n",
    "    #and iteratively update it's value\n",
    "    k_a = np.zeros(num_actions)\n",
    "    Q = np.zeros(num_actions)\n",
    "    for i in range(num_plays):\n",
    "        #get action greedily based off Q and random epsilon\n",
    "        if i == 0:\n",
    "            action = np.random.randint(0,num_actions)\n",
    "        else:\n",
    "            #generate random number\n",
    "            rand_num = np.random.rand()\n",
    "            \n",
    "            #find the greedy action\n",
    "            greedy_action = np.argmax(Q)\n",
    "            \n",
    "            #pick the non-greed action if necessary\n",
    "            if rand_num<epsilon:\n",
    "                action_space = np.delete(np.arange(num_actions),\n",
    "                                         greedy_action)\n",
    "                action=np.random.choice(action_space)\n",
    "            else:\n",
    "                action= greedy_action\n",
    "        \n",
    "        #employ the actions and get the reward\n",
    "        reward = np.random.normal(Q_star[action],1)\n",
    "        \n",
    "        #update Q and then k_a\n",
    "        Q = update_Q(k_a[action],action,reward,Q,step_size)\n",
    "        k_a[action]=k_a[action]+1\n",
    "        \n",
    "        #store the reward history\n",
    "        if per_opt:\n",
    "            action_opt = np.argmax(Q_star)\n",
    "            reward_history[i]=action_opt == action\n",
    "        else:\n",
    "            reward_history[i]=reward\n",
    "    \n",
    "    return reward_history\n",
    "\n",
    "def n_armed_bandit_optimistic(n=10,num_plays=100,epsilon=.1,per_opt=False,step_size=-1):\n",
    "    #number of actions or number of arms\n",
    "    num_actions = n\n",
    "\n",
    "    #generate a list of means to use for normal distribtutions that \n",
    "    #we will use to draw from for each simulation\n",
    "    means = norm_vector(0,1,num_actions)\n",
    "\n",
    "    #each element of Q_star represents the mean of a distribution\n",
    "    #generate the true action values for a simulation\n",
    "    Q_star = norm_vec_from_vec(Q_test_star,std_array)\n",
    "\n",
    "    #for each play, pick an action a (according to some policy) \n",
    "    #and then see your reward. The reward will be a random variable \n",
    "    #drawn from a normal distribution with mean Q_star[a]. \n",
    "    #Thus, we would want to keep track of what reward came with each action\n",
    "    #Big Idea: better rewards will come from actions with higher Q_star\n",
    "    #Hopefully it learns which action is best\n",
    "    reward_history = np.zeros(num_plays)\n",
    "    \n",
    "    #instead of keeping track of the complete actions and reward history\n",
    "    #just keep track of how many times an actions has been used thus far\n",
    "    #and iteratively update it's value\n",
    "    k_a = np.zeros(num_actions)\n",
    "    Q = 5*np.ones(num_actions)\n",
    "    for i in range(num_plays):\n",
    "        #get action greedily based off Q and random epsilon\n",
    "        if i == 0:\n",
    "            action = np.random.randint(0,num_actions)\n",
    "        else:\n",
    "            #generate random number\n",
    "            rand_num = np.random.rand()\n",
    "            \n",
    "            #find the greedy action\n",
    "            greedy_action = np.argmax(Q)\n",
    "            \n",
    "            #pick the non-greed action if necessary\n",
    "            if rand_num<epsilon:\n",
    "                action_space = np.delete(np.arange(num_actions),\n",
    "                                         greedy_action)\n",
    "                action=np.random.choice(action_space)\n",
    "            else:\n",
    "                action= greedy_action\n",
    "        \n",
    "        #employ the actions and get the reward\n",
    "        reward = np.random.normal(Q_star[action],1)\n",
    "        \n",
    "        #update Q and then k_a\n",
    "        Q = update_Q(k_a[action],action,reward,Q,step_size)\n",
    "        k_a[action]=k_a[action]+1\n",
    "\n",
    "        #store the reward history\n",
    "        if per_opt:\n",
    "            action_opt = np.argmax(Q_star)\n",
    "            reward_history[i]=action_opt == action\n",
    "        else:\n",
    "            reward_history[i]=reward\n",
    "\n",
    "    return reward_history"
   ]
  },
  {
   "cell_type": "code",
   "execution_count": 67,
   "metadata": {
    "collapsed": true
   },
   "outputs": [],
   "source": [
    "num_plays = 1000\n",
    "num_sim = 2000\n",
    "optimisitc_results = np.zeros(shape=(num_sim,num_plays))\n",
    "realistic_results = np.zeros(shape=(num_sim,num_plays))\n",
    "for i in range(num_sim):\n",
    "    optimisitc_results[i,:]=n_armed_bandit_optimistic(num_plays=num_plays,epsilon=0,per_opt=True,step_size=0.1)\n",
    "    realistic_results[i,:]=n_armed_bandit(num_plays=num_plays,epsilon=.1,per_opt=True,step_size=0.1)"
   ]
  },
  {
   "cell_type": "code",
   "execution_count": 68,
   "metadata": {
    "collapsed": false
   },
   "outputs": [],
   "source": [
    "#averages\n",
    "optimisitc_averages=np.mean(optimisitc_results,axis=0)\n",
    "realistic_averages=np.mean(realistic_results,axis=0)"
   ]
  },
  {
   "cell_type": "code",
   "execution_count": 69,
   "metadata": {
    "collapsed": false
   },
   "outputs": [
    {
     "data": {
      "text/plain": [
       "<matplotlib.legend.Legend at 0x7f18bff8df90>"
      ]
     },
     "execution_count": 69,
     "metadata": {},
     "output_type": "execute_result"
    },
    {
     "data": {
      "image/png": "[encoded data removed]",
      "text/plain": [
       "<matplotlib.figure.Figure at 0x7f18bff8db90>"
      ]
     },
     "metadata": {},
     "output_type": "display_data"
    }
   ],
   "source": [
    "#plots\n",
    "x_axis=range(num_plays)\n",
    "plt.plot(x_axis,optimisitc_averages,'r',x_axis,realistic_averages,'b')\n",
    "plt.ylabel('% Optimimal')\n",
    "plt.xlabel('Plays')\n",
    "plt.legend([r'optimistic',r'realistic'],loc=4)"
   ]
  },
  {
   "cell_type": "markdown",
   "metadata": {},
   "source": [
    "# Reinforcement Comparison"
   ]
  },
  {
   "cell_type": "markdown",
   "metadata": {},
   "source": [
    "$\\pi_t(a) = \\frac{e^{p_t(a)}}{\\sum_{b=1}^{n} e^{p_t(b)}} $\n",
    "\n",
    "$p_{t+1}(a_t)=p_t(a_t)+\\beta[r_t-\\bar{r}_t]$\n",
    "\n",
    "$\\bar{r}_{t+1}=\\bar{r}_t+\\alpha [r_t-\\bar{r}_t]$"
   ]
  },
  {
   "cell_type": "code",
   "execution_count": 79,
   "metadata": {
    "collapsed": true
   },
   "outputs": [],
   "source": [
    "#input:a probability mass function\n",
    "#output: corresponding cdf\n",
    "def getCDF(pmf):\n",
    "    cdf = np.zeros(len(pmf))\n",
    "    running_total = 0\n",
    "    for i,p in enumerate(pmf):\n",
    "        running_total += p\n",
    "        cdf[i] = running_total\n",
    "    return cdf\n",
    "\n",
    "#returns the action index from a probiblity distribution\n",
    "def getAction(prob):\n",
    "    cdf = getCDF(prob)\n",
    "    rand_num = np.random.rand()\n",
    "    #rand_num = random.random()\n",
    "    return np.argmax(cdf==cdf[np.argmax(cdf>rand_num)])"
   ]
  },
  {
   "cell_type": "code",
   "execution_count": 115,
   "metadata": {
    "collapsed": true
   },
   "outputs": [],
   "source": [
    "def n_armed_bandit_reincomp(n=10,num_plays=100,epsilon=.1,per_opt=False,alpha=.1,beta=.1):\n",
    "    #number of actions or number of arms\n",
    "    num_actions = n\n",
    "\n",
    "    #generate a list of means to use for normal distribtutions that \n",
    "    #we will use to draw from for each simulation\n",
    "    means = norm_vector(0,1,num_actions)\n",
    "\n",
    "    #each element of Q_star represents the mean of a distribution\n",
    "    #generate the true action values for a simulation\n",
    "    Q_star = norm_vec_from_vec(Q_test_star,std_array)\n",
    "\n",
    "    #Log the reward after each action\n",
    "    reward_history = np.zeros(num_plays)\n",
    "    \n",
    "    #keep track of action preference and reference reward\n",
    "    ref_reward=0\n",
    "    pref_action = np.zeros(num_actions)\n",
    "\n",
    "    #initialize policy\n",
    "    pol = softmax_action(pref_action,temp=1)\n",
    "    \n",
    "    for i in range(num_plays):\n",
    "        action = getAction(pol)\n",
    "\n",
    "        #employ the actions and get the reward\n",
    "        reward = np.random.normal(Q_star[action],1)\n",
    "        \n",
    "        #update ref_reward and pref\n",
    "        pref_action[action]=pref_action[action]+beta*(reward-ref_reward)\n",
    "        ref_reward = ref_reward+alpha*(reward-ref_reward)\n",
    "        pol = softmax_action(pref_action,temp=1)\n",
    "        \n",
    "        #store the reward history\n",
    "        if per_opt:\n",
    "            action_opt = np.argmax(Q_star)\n",
    "            reward_history[i]=action_opt == action\n",
    "        else:\n",
    "            reward_history[i]=reward\n",
    "    \n",
    "    return reward_history"
   ]
  },
  {
   "cell_type": "code",
   "execution_count": 116,
   "metadata": {
    "collapsed": false
   },
   "outputs": [],
   "source": [
    "num_plays = 1000\n",
    "num_sim = 2000\n",
    "ep_gred1_results = np.zeros(shape=(num_sim,num_plays))\n",
    "ep_gred2_results = np.zeros(shape=(num_sim,num_plays))\n",
    "reincomp_results = np.zeros(shape=(num_sim,num_plays))\n",
    "for i in range(num_sim):\n",
    "    ep_gred1_results[i,:]=n_armed_bandit(num_plays=num_plays,epsilon=.1,per_opt=True,step_size=-1)\n",
    "    ep_gred2_results[i,:]=n_armed_bandit(num_plays=num_plays,epsilon=.1,per_opt=True,step_size=0.1)\n",
    "    reincomp_results[i,:]=n_armed_bandit_reincomp(num_plays=num_plays,epsilon=0,per_opt=True,alpha=.1,beta=0.1)"
   ]
  },
  {
   "cell_type": "code",
   "execution_count": 117,
   "metadata": {
    "collapsed": true
   },
   "outputs": [],
   "source": [
    "#averages\n",
    "ep_gred1_averages=np.mean(ep_gred1_results,axis=0)\n",
    "ep_gred2_averages=np.mean(ep_gred2_results,axis=0)\n",
    "reincomp_averages=np.mean(reincomp_results,axis=0)"
   ]
  },
  {
   "cell_type": "code",
   "execution_count": 118,
   "metadata": {
    "collapsed": false
   },
   "outputs": [
    {
     "data": {
      "text/plain": [
       "<matplotlib.legend.Legend at 0x7f18bf43ec50>"
      ]
     },
     "execution_count": 118,
     "metadata": {},
     "output_type": "execute_result"
    },
    {
     "data": {
      "image/png": "[encoded data removed]",
      "text/plain": [
       "<matplotlib.figure.Figure at 0x7f18bf33bed0>"
      ]
     },
     "metadata": {},
     "output_type": "display_data"
    }
   ],
   "source": [
    "#plots\n",
    "x_axis=range(num_plays)\n",
    "plt.plot(x_axis,ep_gred1_averages,'r',x_axis,ep_gred2_averages,'b',x_axis,reincomp_averages,'g')\n",
    "plt.ylabel('% Optimimal')\n",
    "plt.xlabel('Plays')\n",
    "plt.legend([r'$\\varepsilon$ -geedy $\\varepsilon = 0.1, \\alpha = 1/k$',\n",
    "            r'$\\varepsilon$ -geedy $\\varepsilon = 0.1, \\alpha = 0.1$',\n",
    "            r'reinforcement comparison'],loc=4)"
   ]
  },
  {
   "cell_type": "markdown",
   "metadata": {},
   "source": [
    "# Pursuit Methods"
   ]
  },
  {
   "cell_type": "markdown",
   "metadata": {},
   "source": [
    "$\\pi_{t+1}(a^*_{t+1})=\\pi_{t}(a^*_{t+1})+\\beta[1-\\pi_{t}(a^*_{t+1})]$\n",
    "\n",
    "$\\pi_{t+1}(a)=\\pi_{t}(a)+\\beta[0-\\pi_{t}(a)] \\quad \\forall a \\neq a_{t+1}^*$"
   ]
  },
  {
   "cell_type": "code",
   "execution_count": 235,
   "metadata": {
    "collapsed": true
   },
   "outputs": [],
   "source": [
    "def n_armed_bandit_pursuit(n=10,num_plays=100,per_opt=False,alpha=.1,beta=.1):\n",
    "    #number of actions or number of arms\n",
    "    num_actions = n\n",
    "\n",
    "    #generate a list of means to use for normal distribtutions that \n",
    "    #we will use to draw from for each simulation\n",
    "    means = norm_vector(0,1,num_actions)\n",
    "\n",
    "    #each element of Q_star represents the mean of a distribution\n",
    "    #generate the true action values for a simulation\n",
    "    Q_star = norm_vec_from_vec(Q_test_star,std_array)\n",
    "\n",
    "    #Log the reward after each action\n",
    "    reward_history = np.zeros(num_plays)\n",
    "    \n",
    "    #keep track of k_a, Q\n",
    "    k_a = np.zeros(num_actions)\n",
    "    Q = 5*np.ones(num_actions)\n",
    "\n",
    "\n",
    "    #initialize policy, which are the action preferences\n",
    "    pol = (1./num_actions)*np.ones(num_actions)\n",
    "    #print pol\n",
    "    \n",
    "    for i in range(num_plays):\n",
    "        #picks an action from the current policy\n",
    "        action = getAction(pol)\n",
    "\n",
    "        #employ the actions and get the reward\n",
    "        reward = np.random.normal(Q_star[action],1)\n",
    "        \n",
    "        \n",
    "        #update Q and then k_a\n",
    "        Q = update_Q(k_a[action],action,reward,Q,alpha)\n",
    "        k_a[action]=k_a[action]+1\n",
    "        \n",
    "        \n",
    "        #update policy\n",
    "        a_opt = np.argmax(Q)\n",
    "        pol[a_opt]=pol[a_opt]+beta*(1-pol[a_opt])\n",
    "        not_opt_act = range(num_actions)\n",
    "        not_opt_act.remove(a_opt)\n",
    "        for j in not_opt_act:\n",
    "            pol[j]=pol[j]+beta*(0-pol[j])\n",
    "        \n",
    "        #store the reward history\n",
    "        if per_opt:\n",
    "            action_opt = np.argmax(Q_star)\n",
    "            reward_history[i]=action_opt == action\n",
    "        else:\n",
    "            reward_history[i]=reward\n",
    "        \n",
    "        #print pol\n",
    "    \n",
    "    return reward_history"
   ]
  },
  {
   "cell_type": "code",
   "execution_count": 242,
   "metadata": {
    "collapsed": false
   },
   "outputs": [
    {
     "name": "stderr",
     "output_type": "stream",
     "text": [
      "100%|██████████| 2000/2000 [02:36<00:00, 12.77it/s]\n"
     ]
    }
   ],
   "source": [
    "num_plays = 1000\n",
    "num_sim = 2000\n",
    "ep_gred_results = np.zeros(shape=(num_sim,num_plays))\n",
    "reincomp_results = np.zeros(shape=(num_sim,num_plays))\n",
    "pursuit_results = np.zeros(shape=(num_sim,num_plays))\n",
    "for i in tqdm(range(num_sim)):\n",
    "    ep_gred_results[i,:]=n_armed_bandit(num_plays=num_plays,epsilon=.1,per_opt=True,step_size=-1)\n",
    "    reincomp_results[i,:]=n_armed_bandit_reincomp(num_plays=num_plays,epsilon=0,per_opt=True,alpha=.1,beta=0.1)\n",
    "    pursuit_results[i,:]=n_armed_bandit_pursuit(num_plays=num_plays,per_opt=True,alpha=-1,beta=0.01)"
   ]
  },
  {
   "cell_type": "code",
   "execution_count": 243,
   "metadata": {
    "collapsed": true
   },
   "outputs": [],
   "source": [
    "#averages\n",
    "ep_gred_averages=np.mean(ep_gred_results,axis=0)\n",
    "reincomp_averages=np.mean(reincomp_results,axis=0)\n",
    "pursuit_averages=np.mean(pursuit_results,axis=0)"
   ]
  },
  {
   "cell_type": "code",
   "execution_count": 244,
   "metadata": {
    "collapsed": false
   },
   "outputs": [
    {
     "data": {
      "text/plain": [
       "<matplotlib.legend.Legend at 0x7f18be49f9d0>"
      ]
     },
     "execution_count": 244,
     "metadata": {},
     "output_type": "execute_result"
    },
    {
     "data": {
      "image/png": "[encoded data removed]",
      "text/plain": [
       "<matplotlib.figure.Figure at 0x7f18be4e1a10>"
      ]
     },
     "metadata": {},
     "output_type": "display_data"
    }
   ],
   "source": [
    "#plots\n",
    "x_axis=range(num_plays)\n",
    "plt.plot(x_axis,ep_gred_averages,'r',x_axis,reincomp_averages,'b',x_axis,pursuit_averages,'g')\n",
    "plt.ylabel('% Optimimal')\n",
    "plt.xlabel('Plays')\n",
    "plt.legend([r'$\\varepsilon$ -geedy $\\varepsilon = 0.1, \\alpha = 1/k$',\n",
    "            r'reinforcement comparison',\n",
    "            r'pursuit'],loc=4)"
   ]
  },
  {
   "cell_type": "code",
   "execution_count": null,
   "metadata": {
    "collapsed": true
   },
   "outputs": [],
   "source": []
  }
 ],
 "metadata": {
  "kernelspec": {
   "display_name": "Python 2",
   "language": "python",
   "name": "python2"
  },
  "language_info": {
   "codemirror_mode": {
    "name": "ipython",
    "version": 2
   },
   "file_extension": ".py",
   "mimetype": "text/x-python",
   "name": "python",
   "nbconvert_exporter": "python",
   "pygments_lexer": "ipython2",
   "version": "2.7.11"
  }
 },
 "nbformat": 4,
 "nbformat_minor": 0
}
